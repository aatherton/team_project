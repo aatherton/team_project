{
 "cells": [
  {
   "cell_type": "code",
   "execution_count": 1,
   "metadata": {
    "collapsed": true
   },
   "outputs": [],
   "source": [
    "\"\"\"takes a CSV path, saves a new csv with duplicate players merged and fantasy points applied.\"\"\"\n",
    "# import dependancies\n",
    "import pandas"
   ]
  },
  {
   "cell_type": "code",
   "execution_count": 2,
   "metadata": {},
   "outputs": [],
   "source": [
    "# constants\n",
    "# CSV is location of target csv to be altered and saved\n",
    "CSV = \"Offense_Only_list.csv\"\n",
    "with open(CSV, \"r\") as inbox:\n",
    "    # DATA is the original data\n",
    "    DATA = pandas.read_csv(inbox)\n",
    "# for testing. will be removed from final version\n",
    "# DATA = DATA.head(5)\n",
    "# to test duplicate stuff\n",
    "# DATA = DATA.append(DATA.head(10))\n",
    "# LOCATION is save location/name\n",
    "LOCATAION = \"cleaned.csv\"\n",
    "# rename shorthand to more readable / convenient names\n",
    "RENAME = {\"P_Yards\": \"passing yards\",\n",
    "          \"P_TD\": \"passing touchdowns\", \n",
    "          \"P_Int\": \"passing intercepetions\", \n",
    "          \"Rush_Yards\": \"rushing yards\",\n",
    "          \"Rush_TD\": \"rushing touchdowns\",\n",
    "          \"Fumbles\": \"fumbles\",\n",
    "          \"Rec_Yards\": \"receiving yards\",\n",
    "          \"Rec_TD\": \"receiving touchdowns\",\n",
    "          \"Receptions\": \"receptions\",\n",
    "          \"Kick_Returns\": \"kick returns\",\n",
    "          \"Punt_Returns\": \"punt returns\"\n",
    "         }\n",
    "# holds the fantasy values for each column header\n",
    "END_POINTS = {}\n",
    "ball = {\n",
    "    \"passing\": {\n",
    "        \"yards\": .04,\n",
    "        \"touchdowns\": 4,\n",
    "        \"interceptions\": -2\n",
    "    },\n",
    "    \"rushing\": {\n",
    "        \"yards\": .1,\n",
    "        \"touchdowns\": 6\n",
    "    },\n",
    "    \"receiving\": {\n",
    "        \"yards\": .1,\n",
    "        \"touchdowns\": 6,\n",
    "        \"receptions\": 1\n",
    "    }\n",
    "}\n",
    "for play in ball:\n",
    "    for result in ball[play]:\n",
    "        END_POINTS[f\"{play} {result}\"] = ball[play][result]\n",
    "END_POINTS[\"fumbles\"] = -2\n",
    "for each in [\"kick\", \"punt\"]:\n",
    "    END_POINTS[f\"{each} returns\"] = 6\n",
    "# this solves a problem later easily\n",
    "END_POINTS[\"Games_Played\"] = 1"
   ]
  },
  {
   "cell_type": "code",
   "execution_count": 3,
   "metadata": {},
   "outputs": [],
   "source": [
    "# functions"
   ]
  },
  {
   "cell_type": "code",
   "execution_count": 4,
   "metadata": {},
   "outputs": [],
   "source": [
    "# rename headers\n",
    "result = DATA.rename(columns = RENAME)\n",
    "result\n",
    "# drop the two beginning, unnamed columns. they were probably old indexes?\n",
    "for each in [0, 1]:\n",
    "    result.drop(result.columns[0], axis = 1, inplace = True)\n",
    "# grab the duplicates\n",
    "result[\"duplicate\"] = result.duplicated(subset=[\"Name\", \"Master_Id\"], keep=False)\n",
    "duplicates = result.loc[result[\"duplicate\"] == True]\n",
    "# drop them from result.\n",
    "result.drop_duplicates([\"Name\", \"Master_Id\"], keep = False, inplace = True)\n",
    "# make a blank DF\n",
    "corrected = pandas.DataFrame(columns = result.columns)\n",
    "# for each duplicate:\n",
    "for each in duplicates[\"Master_Id\"].unique():\n",
    "    # grab the loc\n",
    "    ball = duplicates.loc[duplicates[\"Master_Id\"] == each]\n",
    "    # for each column\n",
    "    for each in ball.columns:\n",
    "        # if it's in our endpoints\n",
    "        if each in END_POINTS:\n",
    "            # sum it all up, multiply by endpoints\n",
    "            ball.set_value(ball.index[0], each, ball[each].sum() * END_POINTS[each])\n",
    "        # otherwise, it's good as-is\n",
    "    # append to corrected\n",
    "    corrected = corrected.append(ball.head(1))\n",
    "# append the corrected df to result\n",
    "result = result.append(corrected)\n",
    "# drop the 'duplicate' field\n",
    "result.drop(\"duplicate\", axis = 1, inplace = True)\n",
    "# save to location as a csv\n",
    "with open(LOCATAION, \"w\") as outbox:\n",
    "    result.to_csv(outbox, index = False)"
   ]
  }
 ],
 "metadata": {
  "kernelspec": {
   "display_name": "Python 3",
   "language": "python",
   "name": "python3"
  },
  "language_info": {
   "codemirror_mode": {
    "name": "ipython",
    "version": 3
   },
   "file_extension": ".py",
   "mimetype": "text/x-python",
   "name": "python",
   "nbconvert_exporter": "python",
   "pygments_lexer": "ipython3",
   "version": "3.6.3"
  }
 },
 "nbformat": 4,
 "nbformat_minor": 2
}
