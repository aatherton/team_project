{
 "cells": [
  {
   "cell_type": "code",
   "execution_count": null,
   "metadata": {
    "collapsed": true
   },
   "outputs": [],
   "source": [
    "import pandas\n",
    "\n",
    "CSV = \"Offense_Only.csv\"\n",
    "\n",
    "with open(CSV, \"r\") as inbox:\n",
    "    # DATA is the original data\n",
    "    DATA = pandas.read_csv(inbox)\n",
    "\n",
    "LOCATAION = \"cleaned.csv\"\n",
    "\n",
    "END_POINTS = {\n",
    "    \"passing yards\": 0.04,\n",
    "    \"passing touchdowns\": 4,\n",
    "    \"passing interceptions\": -2,\n",
    "    \"rushing yards\": 0.1,\n",
    "    \"rushing touchdowns\": 6,\n",
    "    \"receiving yards\": 0.1,\n",
    "    \"receiving touchdowns\": 6,\n",
    "    \"fumbles\": -2,\n",
    "    \"kick returns\": 6,\n",
    "    \"punt returns\": 6\n",
    "}\n",
    "\n",
    "result = pandas.DataFrame()\n",
    "\n",
    "for each in END_POINTS:\n",
    "    result[each] = DATA[each].map(lambda x: x*END_POINTS[each])\n",
    "\n",
    "with open(LOCATAION, \"w\") as outbox:\n",
    "    result.to_csv(outbox, index = False)"
   ]
  }
 ],
 "metadata": {
  "kernelspec": {
   "display_name": "Python 3",
   "language": "python",
   "name": "python3"
  },
  "language_info": {
   "codemirror_mode": {
    "name": "ipython",
    "version": 3
   },
   "file_extension": ".py",
   "mimetype": "text/x-python",
   "name": "python",
   "nbconvert_exporter": "python",
   "pygments_lexer": "ipython3",
   "version": "3.6.3"
  }
 },
 "nbformat": 4,
 "nbformat_minor": 2
}
