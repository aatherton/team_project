{
 "cells": [
  {
   "cell_type": "markdown",
   "metadata": {},
   "source": [
    "# Data Analysis"
   ]
  },
  {
   "cell_type": "markdown",
   "metadata": {},
   "source": [
    "This document describes the different methods and techniques we used in our analysis of our data."
   ]
  },
  {
   "cell_type": "markdown",
   "metadata": {},
   "source": [
    "## Main Hypothesis"
   ]
  },
  {
   "cell_type": "markdown",
   "metadata": {},
   "source": [
    "As the number of players drafted to the NFL goes up the number of total fantasy point goes up for a college."
   ]
  },
  {
   "cell_type": "markdown",
   "metadata": {},
   "source": [
    "### Method"
   ]
  },
  {
   "cell_type": "markdown",
   "metadata": {},
   "source": [
    "To test this we grouped the data by college and made a scatter plot that had the x axis as the total number of points and the \n",
    "y axis as number of players each college had from 2000-2016. We were able to prove that yes as the number of players draft to the NFL goes up, the more fantasy points that college had. Through this graphing method we were also able to plot a linear regression line and come up with a point per player."
   ]
  },
  {
   "cell_type": "code",
   "execution_count": null,
   "metadata": {},
   "outputs": [],
   "source": [
    "import numpy as np\n",
    "import pandas as pd\n",
    "import os\n",
    "import csv\n",
    "import matplotlib.pyplot as plt\n",
    "from scipy import stats\n",
    "import seaborn as sns"
   ]
  },
  {
   "cell_type": "code",
   "execution_count": 6,
   "metadata": {},
   "outputs": [
    {
     "ename": "NameError",
     "evalue": "name 'pd' is not defined",
     "output_type": "error",
     "traceback": [
      "\u001b[0;31m---------------------------------------------------------------------------\u001b[0m",
      "\u001b[0;31mNameError\u001b[0m                                 Traceback (most recent call last)",
      "\u001b[0;32m<ipython-input-6-436fbc52ffe1>\u001b[0m in \u001b[0;36m<module>\u001b[0;34m()\u001b[0m\n\u001b[1;32m      1\u001b[0m \u001b[0mfantasy_f\u001b[0m \u001b[1;33m=\u001b[0m \u001b[1;34m\"actually_final_i_promise.csv\"\u001b[0m\u001b[1;33m\u001b[0m\u001b[0m\n\u001b[0;32m----> 2\u001b[0;31m \u001b[0mdf\u001b[0m \u001b[1;33m=\u001b[0m \u001b[0mpd\u001b[0m\u001b[1;33m.\u001b[0m\u001b[0mread_csv\u001b[0m\u001b[1;33m(\u001b[0m\u001b[0mfantasy_f\u001b[0m\u001b[1;33m)\u001b[0m\u001b[1;33m\u001b[0m\u001b[0m\n\u001b[0m\u001b[1;32m      3\u001b[0m \u001b[0mresult\u001b[0m \u001b[1;33m=\u001b[0m \u001b[1;33m{\u001b[0m\u001b[1;33m}\u001b[0m\u001b[1;33m\u001b[0m\u001b[0m\n\u001b[1;32m      4\u001b[0m \u001b[1;32mfor\u001b[0m \u001b[0meach\u001b[0m \u001b[1;32min\u001b[0m \u001b[0mdf\u001b[0m\u001b[1;33m[\u001b[0m\u001b[1;34m\"college\"\u001b[0m\u001b[1;33m]\u001b[0m\u001b[1;33m.\u001b[0m\u001b[0munique\u001b[0m\u001b[1;33m(\u001b[0m\u001b[1;33m)\u001b[0m\u001b[1;33m:\u001b[0m\u001b[1;33m\u001b[0m\u001b[0m\n\u001b[1;32m      5\u001b[0m     \u001b[0mresult\u001b[0m\u001b[1;33m[\u001b[0m\u001b[0meach\u001b[0m\u001b[1;33m]\u001b[0m \u001b[1;33m=\u001b[0m \u001b[1;33m{\u001b[0m\u001b[1;33m}\u001b[0m\u001b[1;33m\u001b[0m\u001b[0m\n",
      "\u001b[0;31mNameError\u001b[0m: name 'pd' is not defined"
     ]
    }
   ],
   "source": [
    "fantasy_f = \"actually_final_i_promise.csv\"\n",
    "df = pd.read_csv(fantasy_f)\n",
    "\n",
    "#plotting graph without regression\n",
    "result = {}\n",
    "for each in df[\"college\"].unique():\n",
    "    result[each] = {}\n",
    "    ball = df.loc[df[\"college\"] == each]\n",
    "    result[each][\"playercount\"] = len(ball[\"name\"].unique())\n",
    "    result[each][\"average score\"] = ball[\"total annual points\"].sum()\n",
    "result = pd.DataFrame(result).transpose()\n",
    "result.rename(columns={'average score': 'total points'}, inplace=True)\n",
    "result.loc[result[\"playercount\"]>30]\n",
    "\n",
    "x = result[\"average score\"]\n",
    "y = result[\"playercount\"]\n",
    "with plt.style.context(\"seaborn\"):\n",
    "    plt.figure(figsize=(8,8))\n",
    "    plt.scatter(x, y, c='steelblue', edgecolor='white', s=70)\n",
    "    plt.ylabel(\"Player College Count\")\n",
    "    plt.xlabel(\"Player Fantasy Point Total\")\n",
    "    plt.title(\"College Player Counts vs. Total Fantasy Points (2000-2017)\")\n",
    "    plt.savefig(\"FF Scatter.png\")\n"
   ]
  },
  {
   "cell_type": "code",
   "execution_count": 7,
   "metadata": {},
   "outputs": [
    {
     "ename": "NameError",
     "evalue": "name 'X' is not defined",
     "output_type": "error",
     "traceback": [
      "\u001b[0;31m---------------------------------------------------------------------------\u001b[0m",
      "\u001b[0;31mNameError\u001b[0m                                 Traceback (most recent call last)",
      "\u001b[0;32m<ipython-input-7-ba4ef9cd54bd>\u001b[0m in \u001b[0;36m<module>\u001b[0;34m()\u001b[0m\n\u001b[1;32m      2\u001b[0m \u001b[1;32mfrom\u001b[0m \u001b[0msklearn\u001b[0m\u001b[1;33m.\u001b[0m\u001b[0mlinear_model\u001b[0m \u001b[1;32mimport\u001b[0m \u001b[0mLinearRegression\u001b[0m\u001b[1;33m\u001b[0m\u001b[0m\n\u001b[1;32m      3\u001b[0m \u001b[0mmodel\u001b[0m \u001b[1;33m=\u001b[0m \u001b[0mLinearRegression\u001b[0m\u001b[1;33m(\u001b[0m\u001b[1;33m)\u001b[0m\u001b[1;33m\u001b[0m\u001b[0m\n\u001b[0;32m----> 4\u001b[0;31m \u001b[0mmodel\u001b[0m\u001b[1;33m.\u001b[0m\u001b[0mfit\u001b[0m\u001b[1;33m(\u001b[0m\u001b[0mX\u001b[0m\u001b[1;33m,\u001b[0m \u001b[0my\u001b[0m\u001b[1;33m)\u001b[0m\u001b[1;33m\u001b[0m\u001b[0m\n\u001b[0m\u001b[1;32m      5\u001b[0m \u001b[1;32mwith\u001b[0m \u001b[0mplt\u001b[0m\u001b[1;33m.\u001b[0m\u001b[0mstyle\u001b[0m\u001b[1;33m.\u001b[0m\u001b[0mcontext\u001b[0m\u001b[1;33m(\u001b[0m\u001b[1;34m\"seaborn\"\u001b[0m\u001b[1;33m)\u001b[0m\u001b[1;33m:\u001b[0m\u001b[1;33m\u001b[0m\u001b[0m\n\u001b[1;32m      6\u001b[0m     \u001b[0mplt\u001b[0m\u001b[1;33m.\u001b[0m\u001b[0mfigure\u001b[0m\u001b[1;33m(\u001b[0m\u001b[0mfigsize\u001b[0m\u001b[1;33m=\u001b[0m\u001b[1;33m(\u001b[0m\u001b[1;36m8\u001b[0m\u001b[1;33m,\u001b[0m\u001b[1;36m8\u001b[0m\u001b[1;33m)\u001b[0m\u001b[1;33m)\u001b[0m\u001b[1;33m\u001b[0m\u001b[0m\n",
      "\u001b[0;31mNameError\u001b[0m: name 'X' is not defined"
     ]
    }
   ],
   "source": [
    "# plotting with regression\n",
    "from sklearn.linear_model import LinearRegression\n",
    "model = LinearRegression()\n",
    "model.fit(X, y)\n",
    "with plt.style.context(\"seaborn\"):\n",
    "    plt.figure(figsize=(8,8))\n",
    "    plt.scatter(X, y, c='steelblue', edgecolor='white', s=70)\n",
    "    plt.plot(X, model.predict(X), color='black', lw=2)\n",
    "    plt.ylabel(\"Player College Count\")\n",
    "    plt.xlabel(\"Player Fantasy Point Total\")\n",
    "    plt.title(\"College Player Counts vs. Total Fantasy Points (2000-2017)\")\n",
    "    plt.savefig(\"FF Scatter Regression.png\")\n",
    "\n",
    "m = model.coef_[0]\n",
    "print(\"slope=\",m)"
   ]
  },
  {
   "cell_type": "code",
   "execution_count": 8,
   "metadata": {},
   "outputs": [],
   "source": [
    "# slope= 0.0038366969217760714\n",
    "# 1 player is equal to about 260 pts. over this timespan."
   ]
  },
  {
   "cell_type": "markdown",
   "metadata": {},
   "source": [
    "## Analysis of the Power 5 Conferences"
   ]
  },
  {
   "cell_type": "markdown",
   "metadata": {},
   "source": [
    "In order to see which NCAA major conference contributed the most points, we took just the schools in the power 5 and sorted \n",
    "by conference. We then broke each conferences points down by position and created a stacked bar chart from the data. We were\n",
    "able to tell that the Big 10 contributes the most fantasy points to the NFL, while the ACC was in close second. Unfortunately,\n",
    "the Big 12 was the lowest out of the five."
   ]
  },
  {
   "cell_type": "code",
   "execution_count": null,
   "metadata": {},
   "outputs": [],
   "source": [
    "switcher = json.load(open(\"power 5 schools.txt\"))\n",
    "# this cell reserved for testing\n",
    "with open(\"actually_final_i_promise.csv\") as inbox:\n",
    "    DF = pandas.read_csv(inbox)"
   ]
  },
  {
   "cell_type": "code",
   "execution_count": null,
   "metadata": {},
   "outputs": [],
   "source": [
    "def setup(df, x, y, function):\n",
    "    \"\"\"Takes a dataframe, two column names from it and a lambda function to be applied to a loc of the dataframe to return an int. returns a dataframe set up per spec\"\"\"\n",
    "    result = {}\n",
    "    for each in df[x].unique():\n",
    "        result[each] = {}\n",
    "        for other in df[y].unique():\n",
    "            ball = df.loc[df[x] == each]\n",
    "            ball = ball.loc[ball[y] == other]\n",
    "            result[each][other] = function(ball)\n",
    "    return pandas.DataFrame(result)\n",
    "\n",
    "# this cell reserved for testing\n",
    "ball = DF\n",
    "def throw(inbox):\n",
    "    if inbox in switcher:\n",
    "        return switcher[inbox]\n",
    "    else:\n",
    "        return \"other\"\n",
    "ball[\"conference\"] = ball[\"college\"].map(throw)\n",
    "ball = setup(ball, \"conference\", \"Position\", lambda x: x[\"total annual points\"].sum()).transpose()\n",
    "ball = ball.drop(\"other\")\n"
   ]
  },
  {
   "cell_type": "code",
   "execution_count": null,
   "metadata": {},
   "outputs": [],
   "source": [
    "last = pandas.Series(index = ball.index, data = [0])\n",
    "width = .35\n",
    "ind = range(len(ball.index))\n",
    "plt.figure(figsize = (22, 10))\n",
    "for position in ball.columns:\n",
    "    plt.bar(ind, list(ball[position]), bottom=last)\n",
    "    last = ball[position].add(last)\n",
    "plt.xticks(ind, ball.index)\n",
    "plt.ylabel('Total Annual Points')\n",
    "plt.title('Total Annual Points by Division and Position')\n",
    "plt.style.use('seaborn')\n",
    "plt.legend(ball.columns)\n",
    "plt.savefig(\"stacked_bar.png\")\n",
    "plt.show()"
   ]
  },
  {
   "cell_type": "markdown",
   "metadata": {},
   "source": [
    "ACC        63149.02\n",
    "Big 10     71534.00\n",
    "Big 12     31747.16\n",
    "PAC12      53852.86\n",
    "SEC        37352.08\n",
    "other     213424.00"
   ]
  },
  {
   "cell_type": "markdown",
   "metadata": {},
   "source": [
    "## Yearly Look at Total Fantasy Point Generation by Position"
   ]
  },
  {
   "cell_type": "markdown",
   "metadata": {},
   "source": [
    "To check for anything that might be throwing off our average per year counts, we made a histogram of the total amount of points\n",
    "generated by each position for the year."
   ]
  },
  {
   "cell_type": "code",
   "execution_count": 10,
   "metadata": {},
   "outputs": [
    {
     "ename": "NameError",
     "evalue": "name 'pandas' is not defined",
     "output_type": "error",
     "traceback": [
      "\u001b[0;31m---------------------------------------------------------------------------\u001b[0m",
      "\u001b[0;31mNameError\u001b[0m                                 Traceback (most recent call last)",
      "\u001b[0;32m<ipython-input-10-cfde7ee00cb5>\u001b[0m in \u001b[0;36m<module>\u001b[0;34m()\u001b[0m\n\u001b[1;32m      1\u001b[0m \u001b[1;32mwith\u001b[0m \u001b[0mopen\u001b[0m\u001b[1;33m(\u001b[0m\u001b[1;34m\"actually_final_i_promise.csv\"\u001b[0m\u001b[1;33m)\u001b[0m \u001b[1;32mas\u001b[0m \u001b[0minbox\u001b[0m\u001b[1;33m:\u001b[0m\u001b[1;33m\u001b[0m\u001b[0m\n\u001b[0;32m----> 2\u001b[0;31m     \u001b[0mDF\u001b[0m \u001b[1;33m=\u001b[0m \u001b[0mpandas\u001b[0m\u001b[1;33m.\u001b[0m\u001b[0mread_csv\u001b[0m\u001b[1;33m(\u001b[0m\u001b[0minbox\u001b[0m\u001b[1;33m)\u001b[0m\u001b[1;33m\u001b[0m\u001b[0m\n\u001b[0m",
      "\u001b[0;31mNameError\u001b[0m: name 'pandas' is not defined"
     ]
    }
   ],
   "source": [
    "with open(\"actually_final_i_promise.csv\") as inbox:\n",
    "    DF = pandas.read_csv(inbox)"
   ]
  },
  {
   "cell_type": "code",
   "execution_count": null,
   "metadata": {},
   "outputs": [],
   "source": [
    "def setup(df, x, y, function):\n",
    "    \"\"\"Takes a dataframe, two column names from it and a lambda function to be applied to a loc of the dataframe to return an int. returns a dataframe set up per spec\"\"\"\n",
    "    result = {}\n",
    "    for each in df[x].unique():\n",
    "        result[each] = {}\n",
    "        for other in df[y].unique():\n",
    "            ball = df.loc[df[x] == each]\n",
    "            ball = ball.loc[ball[y] == other]\n",
    "            result[each][other] = function(ball)\n",
    "    return pandas.DataFrame(result)\n",
    "\n",
    "def pretty_picture(df, x_title, y_title, title):\n",
    "    \"\"\"Takes a dataframe of the format we're using for our results. sets it up as a matplotlib plot. returns True if successful\"\"\"\n",
    "    colorlist = [\"#e6194b\", \"#3cb44b\", \"#0082c8\", \"#f58231\", \"#911eb4\", \"#46f0f0\", \"#f032e6\", \"#ffe119\", \"#d2f53c\", \"#fabebe\", \"#000080\", \"#ffd8b1\", \"#808000\", \"#aaffc3\", \"#800000\", \"#fffac8\", \"#aa6e28\", \"#e6beff\", \"#008080\"]\n",
    "    markerlist = [\".\", \"o\", \"v\", \"^\", \"<\", \">\", \"1\", \"2\", \"3\", \"4\", \"8\", \"s\" \"p\", \"P\", \"*\", \",\", \"h\", \"H\", \"+\", \"x\", \"X\", \"D\", \"d\", \"|\", \"_\"]\n",
    "    ball = []\n",
    "    plt.figure(figsize = (22, 10))\n",
    "    for each in range(len(df.columns)):\n",
    "        ball.append(plt.errorbar(df.index, df[df.columns[each]], label = df.columns[each], color = colorlist[each], marker = markerlist[each]))\n",
    "    plt.xticks(df.index)\n",
    "    plt.legend(loc = \"best\")\n",
    "    plt.xlabel(x_title)\n",
    "    plt.ylabel(y_title)\n",
    "    plt.title(title)\n",
    "    plt.grid(alpha = .25)\n",
    "    \n",
    "test_data = setup(DF, \"Position\", \"Year\", lambda x: x[\"total annual points\"].sum())\n",
    "pretty_picture(test_data, \"Year\", \"Fantasy Point Totals\", \"Yearly Look at Total Fantasy Point Generation by Position\")\n",
    "\n",
    "fig1 = plt.gcf()\n",
    "plt.show()\n",
    "plt.draw()\n",
    "fig1.savefig('Yearly Total Fantasy Point Generation by Position.png')"
   ]
  },
  {
   "cell_type": "markdown",
   "metadata": {},
   "source": [
    "## Yearly Average Points by Position"
   ]
  },
  {
   "cell_type": "markdown",
   "metadata": {},
   "source": [
    "Next we wanted to see by year which positions scored the highest amount of points on average each year. We used the following\n",
    "code to do so:"
   ]
  },
  {
   "cell_type": "code",
   "execution_count": null,
   "metadata": {},
   "outputs": [],
   "source": [
    "test_data = setup(DF, \"Position\", \"Year\", lambda x: (x[\"total annual points\"].mean()/x[\"Games_Played\"].mean()))\n",
    "pretty_picture(test_data, \"Year\", \"Fantasy Points\", \"Yearly Average Points Per Position\")\n",
    "\n",
    "plt.style.use('seaborn')\n",
    "\n",
    "fig1 = plt.gcf()\n",
    "plt.show()\n",
    "plt.draw()\n",
    "fig1.savefig('Yearly Average Points Per Position.png')"
   ]
  },
  {
   "cell_type": "markdown",
   "metadata": {},
   "source": [
    "## Top Points by College and Position"
   ]
  },
  {
   "cell_type": "markdown",
   "metadata": {},
   "source": [
    "Finally we wanted to break down which college had the most post for each of our major positions. We used the code below to \n",
    "generate charts for each type: "
   ]
  },
  {
   "cell_type": "code",
   "execution_count": null,
   "metadata": {},
   "outputs": [],
   "source": [
    "CSV = \"actually_final_i_promise.csv\"\n",
    "\n",
    "with open(CSV, \"r\") as inbox:\n",
    "    # DATA is the original data\n",
    "    df = pandas.read_csv(inbox)\n",
    "    \n",
    "df = df.dropna(axis=0, subset=college)\n",
    "\n",
    "result = {}\n",
    "for each in df[\"college\"].unique():\n",
    "    result[each] = {}\n",
    "    ball = df.loc[df[\"college\"] == each]\n",
    "    result[each][\"playercount\"] = len(ball[\"name\"].unique())\n",
    "    result[each][\"average score\"] = ball[\"total annual points\"].sum() / result[each][\"playercount\"]\n",
    "result = pandas.DataFrame(result).transpose()\n",
    "df['college'] = (df['college'].astype(str).str.lower())\n",
    "\n",
    "qb_df = pandas.DataFrame(df[df['Position'] == 'QB'])\n",
    "rb_df = pandas.DataFrame(df[df['Position'] == 'RB'])\n",
    "te_df = pandas.DataFrame(df[df['Position'] == 'TE'])\n",
    "wr_df = pandas.DataFrame(df[df['Position'] == 'WR'])\n",
    "fb_df = pandas.DataFrame(df[df['Position'] == 'FB'])\n",
    "\n",
    "qb = pandas.DataFrame(qb_df.groupby(['college'])['total annual points'].sum().sort_values(0, ascending=False).nlargest(5))\n",
    "rb = pandas.DataFrame(rb_df.groupby(['college'])['total annual points'].sum().sort_values(0, ascending=False).nlargest(5))\n",
    "wr = pandas.DataFrame(wr_df.groupby(['college'])['total annual points'].sum().sort_values(0, ascending=False).nlargest(5))\n",
    "te = pandas.DataFrame(te_df.groupby(['college'])['total annual points'].sum().sort_values(0, ascending=False).nlargest(5))\n",
    "fb = pandas.DataFrame(fb_df.groupby(['college'])['total annual points'].sum().sort_values(0, ascending=False).nlargest(5))"
   ]
  },
  {
   "cell_type": "code",
   "execution_count": null,
   "metadata": {},
   "outputs": [],
   "source": [
    "# QB\n",
    "plt.style.use('seaborn')\n",
    "plt.bar(qb.index, qb['total annual points'], color='red')\n",
    "plt.title('Top Fantasy Points by College:  QB')\n",
    "plt.xlabel('College')\n",
    "plt.ylabel('Total points from 2000-2016')\n",
    "plt.ylim(0,6000)\n",
    "plt.savefig('top points by college-position QB.png')\n",
    "plt.show()"
   ]
  },
  {
   "cell_type": "code",
   "execution_count": null,
   "metadata": {},
   "outputs": [],
   "source": [
    "# RB\n",
    "plt.bar(rb.index, rb['total annual points'], color='blue')\n",
    "plt.title('Top Fantasy Points by College: Running Backs')\n",
    "plt.xlabel('College')\n",
    "plt.ylabel('Total points from 2000-2016')\n",
    "plt.ylim(0,6000)\n",
    "plt.savefig('top points by college-position RB.png')\n",
    "plt.show()"
   ]
  },
  {
   "cell_type": "code",
   "execution_count": null,
   "metadata": {},
   "outputs": [],
   "source": [
    "# TE\n",
    "plt.bar(te.index, te['total annual points'], color='green')\n",
    "plt.title('Top Fantasy Points by College: Tight End')\n",
    "plt.xlabel('College')\n",
    "plt.ylabel('Total points from 2000-2016')\n",
    "plt.ylim(0,6000)\n",
    "plt.savefig('top points by college-position TE.png')\n",
    "plt.show()"
   ]
  },
  {
   "cell_type": "code",
   "execution_count": null,
   "metadata": {},
   "outputs": [],
   "source": [
    "# WR\n",
    "plt.bar(wr.index, wr['total annual points'], color='orange')\n",
    "plt.title('Top Fantasy Points by College: Wide Receiver')\n",
    "plt.xlabel('College')\n",
    "plt.ylabel('Total points from 2000-2016')\n",
    "plt.ylim(0,6000)\n",
    "plt.savefig('top points by college-position WR.png')\n",
    "plt.show()"
   ]
  },
  {
   "cell_type": "code",
   "execution_count": null,
   "metadata": {},
   "outputs": [],
   "source": [
    "# FB\n",
    "plt.bar(fb.index, fb['total annual points'], color='purple')\n",
    "plt.title('Top Fantasy Points by College: Full Back')\n",
    "plt.xlabel('College')\n",
    "plt.ylabel('Total points from 2000-2016')\n",
    "plt.ylim(0,6000)\n",
    "plt.savefig('top points by college-position FB.png')\n",
    "plt.show()"
   ]
  }
 ],
 "metadata": {
  "anaconda-cloud": {},
  "kernelspec": {
   "display_name": "Python [conda root]",
   "language": "python",
   "name": "conda-root-py"
  },
  "language_info": {
   "codemirror_mode": {
    "name": "ipython",
    "version": 3
   },
   "file_extension": ".py",
   "mimetype": "text/x-python",
   "name": "python",
   "nbconvert_exporter": "python",
   "pygments_lexer": "ipython3",
   "version": "3.5.2"
  }
 },
 "nbformat": 4,
 "nbformat_minor": 1
}
