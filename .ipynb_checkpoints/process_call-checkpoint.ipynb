{
 "cells": [
  {
   "cell_type": "code",
   "execution_count": null,
   "metadata": {
    "collapsed": true
   },
   "outputs": [],
   "source": [
    "def process_team_year(json_location):\n",
    "\t# global\n",
    "\twith open(json_location, \"r\") as inbox:\n",
    "\t\tRAW = inbox\n",
    "\tEND_POINTS\t= {\"passing\":(\n",
    "\t\t\t\"yards\",\n",
    "\t\t\t\"touchdowns\",\n",
    "\t\t\t\"interceptions\"\n",
    "\t\t),\n",
    "\t\t\"rushing\": (\n",
    "\t\t\t\"yards\",\n",
    "\t\t\t\"touchdowns\"\n",
    "\t\t),\n",
    "\t\t\"receiving\": (\n",
    "\t\t\t\"yards\",\n",
    "\t\t\t\"touchdowns\",\n",
    "\t\t\t\"receptions\"\n",
    "\t\t)\n",
    "\t}\n",
    "\n",
    "\t# functions\n",
    "\n",
    "\tresult = {}\n",
    "\n",
    "\tfor each in RAW[\"players\"]:\n",
    "\t\tif \"defense\" in each:\n",
    "\t\t\tnext each\n",
    "\t\tfor category in END_POINTS:\n",
    "\t\t\tfor topic in category:\n",
    "\t\t\t\tresult[each[\"name\"]]\n",
    "\t\t\t\ttry:\n",
    "\t\t\t\t\tresult[each['name']][f\"{category} {topic}\"] = each[category][topic]\n",
    "\t\t\t\texcept:\n",
    "\t\t\t\t\tresult[each[\"name\"]][f\"{category} {topic}\"] = 0\n",
    "\n",
    "\treturn result{}"
   ]
  }
 ],
 "metadata": {
  "kernelspec": {
   "display_name": "Python 3",
   "language": "python",
   "name": "python3"
  },
  "language_info": {
   "codemirror_mode": {
    "name": "ipython",
    "version": 3
   },
   "file_extension": ".py",
   "mimetype": "text/x-python",
   "name": "python",
   "nbconvert_exporter": "python",
   "pygments_lexer": "ipython3",
   "version": "3.6.3"
  }
 },
 "nbformat": 4,
 "nbformat_minor": 2
}
