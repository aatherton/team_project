{
 "cells": [
  {
   "cell_type": "code",
   "execution_count": 5,
   "metadata": {
    "collapsed": true
   },
   "outputs": [],
   "source": [
    "# Grabbing the College data for all the players based on their player_id\n",
    "\n",
    "# Imports\n",
    "import pandas as pd\n",
    "import json\n",
    "import os\n",
    "import requests\n",
    "import time"
   ]
  },
  {
   "cell_type": "code",
   "execution_count": 10,
   "metadata": {},
   "outputs": [
    {
     "data": {
      "text/html": [
       "<div>\n",
       "<style>\n",
       "    .dataframe thead tr:only-child th {\n",
       "        text-align: right;\n",
       "    }\n",
       "\n",
       "    .dataframe thead th {\n",
       "        text-align: left;\n",
       "    }\n",
       "\n",
       "    .dataframe tbody tr th {\n",
       "        vertical-align: top;\n",
       "    }\n",
       "</style>\n",
       "<table border=\"1\" class=\"dataframe\">\n",
       "  <thead>\n",
       "    <tr style=\"text-align: right;\">\n",
       "      <th></th>\n",
       "      <th>Unnamed: 0</th>\n",
       "      <th>Player_Id</th>\n",
       "      <th>Name</th>\n",
       "    </tr>\n",
       "  </thead>\n",
       "  <tbody>\n",
       "    <tr>\n",
       "      <th>0</th>\n",
       "      <td>0</td>\n",
       "      <td>05b0c05e-ec5b-4c41-9ff6-55ffcbdab955</td>\n",
       "      <td>Alex Van Pelt</td>\n",
       "    </tr>\n",
       "    <tr>\n",
       "      <th>1</th>\n",
       "      <td>1</td>\n",
       "      <td>1454f252-2a45-4a4d-bce6-c9a4958514cb</td>\n",
       "      <td>Jeremy McDaniel</td>\n",
       "    </tr>\n",
       "    <tr>\n",
       "      <th>2</th>\n",
       "      <td>2</td>\n",
       "      <td>229596c9-a494-4293-8bbc-76203995b92f</td>\n",
       "      <td>Shawn Bryson</td>\n",
       "    </tr>\n",
       "    <tr>\n",
       "      <th>3</th>\n",
       "      <td>3</td>\n",
       "      <td>34147754-f18a-4071-9895-dd541c78260e</td>\n",
       "      <td>Doug Flutie</td>\n",
       "    </tr>\n",
       "    <tr>\n",
       "      <th>4</th>\n",
       "      <td>4</td>\n",
       "      <td>39536e35-74fb-4287-8550-1304b16256a5</td>\n",
       "      <td>Jay Riemersma</td>\n",
       "    </tr>\n",
       "  </tbody>\n",
       "</table>\n",
       "</div>"
      ],
      "text/plain": [
       "   Unnamed: 0                             Player_Id             Name\n",
       "0           0  05b0c05e-ec5b-4c41-9ff6-55ffcbdab955    Alex Van Pelt\n",
       "1           1  1454f252-2a45-4a4d-bce6-c9a4958514cb  Jeremy McDaniel\n",
       "2           2  229596c9-a494-4293-8bbc-76203995b92f     Shawn Bryson\n",
       "3           3  34147754-f18a-4071-9895-dd541c78260e      Doug Flutie\n",
       "4           4  39536e35-74fb-4287-8550-1304b16256a5    Jay Riemersma"
      ]
     },
     "execution_count": 10,
     "metadata": {},
     "output_type": "execute_result"
    }
   ],
   "source": [
    "# Setting up API key pulls - Need 3 seperate keys to get around call limit\n",
    "api_dir = os.path.dirname(os.path.dirname(os.path.realpath('__file__')))\n",
    "file_name = os.path.join(api_dir, \"api_keys.json\")\n",
    "data = json.load(open(file_name))\n",
    "\n",
    "ce_key = data['sportradar_nfl_official_key1']\n",
    "#ez_key = data['sportradar_nfl_official_key2']\n",
    "#jz_key = data['sportradar_nfl_official_key3']\n",
    "\n",
    "# print(ce_key, ez_key, jz_key)\n",
    "\n",
    "# Finding file with unique player names to search and then starting a loop to interate\n",
    "player_file = \"unique_players.csv\"\n",
    "with open(player_file, \"r\") as p_list:\n",
    "    # Reading in all the player data\n",
    "    player_df = pd.read_csv(p_list)\n",
    "\n",
    "save_path = \"unique_players.csv\"\n",
    "player_df.head()"
   ]
  },
  {
   "cell_type": "code",
   "execution_count": 15,
   "metadata": {
    "scrolled": true
   },
   "outputs": [
    {
     "name": "stdout",
     "output_type": "stream",
     "text": [
      "https://api.sportradar.us/nfl-ot2/players/05b0c05e-ec5b-4c41-9ff6-55ffcbdab955/profile.json?api_key=brxdu7um9h9sv6hfvat2su2d\n",
      "1\n",
      "https://api.sportradar.us/nfl-ot2/players/1454f252-2a45-4a4d-bce6-c9a4958514cb/profile.json?api_key=brxdu7um9h9sv6hfvat2su2d\n",
      "2\n",
      "https://api.sportradar.us/nfl-ot2/players/229596c9-a494-4293-8bbc-76203995b92f/profile.json?api_key=brxdu7um9h9sv6hfvat2su2d\n",
      "3\n"
     ]
    }
   ],
   "source": [
    "# Setting up URL and API call for team_id\n",
    "key = [ce_key]\n",
    "counter = 0\n",
    "manip_count = 0\n",
    "college_df = []\n",
    "#player_df['Player_Id']\n",
    "\n",
    "for player in range(0,3):\n",
    "    # Building url and calling api\n",
    "    url = f\"https://api.sportradar.us/nfl-ot2/players/{player_df['Player_Id'][player]}/profile.json?api_key=\" + str(key[counter])\n",
    "    print(url)\n",
    "    api_response = requests.get(url)\n",
    "    \n",
    "    # Hard coding in a 1 call per second limit - api server will reject anything faster \n",
    "    time.sleep(1.1)\n",
    "    \n",
    "    # Reading json\n",
    "    api_json = api_response.json()\n",
    "    \n",
    "    # Counters - cycling keys every 900 calls so as to not hit a limit on any key\n",
    "    manip_count += 1\n",
    "    counter = int(manip_count / 900)\n",
    "    \n",
    "    # Appending college, N/A if nothing\n",
    "    try:\n",
    "        college_df.append(api_json['college'])\n",
    "        \n",
    "    except:\n",
    "        college_df.append(\"N/A\")\n",
    "        \n",
    "    # Checking progress\n",
    "    print(manip_count)\n",
    "    #print(json.dumps(api_json, indent=4))"
   ]
  },
  {
   "cell_type": "code",
   "execution_count": 17,
   "metadata": {},
   "outputs": [
    {
     "data": {
      "text/plain": [
       "['Pittsburgh', 'Arizona', 'Tennessee']"
      ]
     },
     "execution_count": 17,
     "metadata": {},
     "output_type": "execute_result"
    }
   ],
   "source": [
    "college_df"
   ]
  },
  {
   "cell_type": "code",
   "execution_count": null,
   "metadata": {
    "collapsed": true
   },
   "outputs": [],
   "source": []
  }
 ],
 "metadata": {
  "kernelspec": {
   "display_name": "Python 3",
   "language": "python",
   "name": "python3"
  },
  "language_info": {
   "codemirror_mode": {
    "name": "ipython",
    "version": 3
   },
   "file_extension": ".py",
   "mimetype": "text/x-python",
   "name": "python",
   "nbconvert_exporter": "python",
   "pygments_lexer": "ipython3",
   "version": "3.6.3"
  }
 },
 "nbformat": 4,
 "nbformat_minor": 2
}
